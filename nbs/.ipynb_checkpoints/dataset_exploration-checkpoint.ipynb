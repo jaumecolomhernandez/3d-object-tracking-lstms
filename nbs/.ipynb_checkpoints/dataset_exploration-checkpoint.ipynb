{
 "cells": [
  {
   "cell_type": "markdown",
   "metadata": {},
   "source": [
    "## Exploratory analysis"
   ]
  },
  {
   "cell_type": "code",
   "execution_count": 5,
   "metadata": {},
   "outputs": [],
   "source": [
    "import pandas as pd\n",
    "import numpy as np\n",
    "import matplotlib.pyplot as plt\n",
    "\n",
    "import json\n",
    "import os"
   ]
  },
  {
   "cell_type": "code",
   "execution_count": 6,
   "metadata": {},
   "outputs": [],
   "source": [
    "home_path = '/home/usuario/'\n",
    "\n",
    "datasets_path = os.path.join(home_path, 'project_data', 'datasets')\n",
    "\n",
    "all_datasets = ['SynthCars', 'SynthCarsPersons', 'Synth20', 'Synth20others', 'KITTITrackletsCars', 'KITTITrackletsCarsPersons', 'KITTITrackletsCarsHard', 'KITTITrackletsCarsPersonsHard']"
   ]
  },
  {
   "cell_type": "markdown",
   "metadata": {},
   "source": [
    "For each dataset get basic information"
   ]
  },
  {
   "cell_type": "code",
   "execution_count": 7,
   "metadata": {},
   "outputs": [],
   "source": [
    "dataset_path = os.path.join(datasets_path, all_datasets[1]) "
   ]
  },
  {
   "cell_type": "markdown",
   "metadata": {},
   "source": [
    "**Number of points**"
   ]
  },
  {
   "cell_type": "markdown",
   "metadata": {},
   "source": [
    "Load each pointcloud in a list to compute individual statistics"
   ]
  },
  {
   "cell_type": "code",
   "execution_count": null,
   "metadata": {},
   "outputs": [],
   "source": [
    "container = list()\n",
    "for i in range(10000):\n",
    "    file_path = os.path.join(dataset_path, \"pointcloud1\", str(i).zfill(8)+'.npy')\n",
    "    file_arr = np.load(file_path)\n",
    "    container.append(file_arr)"
   ]
  },
  {
   "cell_type": "code",
   "execution_count": 16,
   "metadata": {},
   "outputs": [],
   "source": [
    "shapes = np.zeros((1, len(container)))\n",
    "for i in range(len(container)): #Only interested in the number of points \n",
    "    shapes[0, i] = container[i].shape[0]"
   ]
  },
  {
   "cell_type": "code",
   "execution_count": 74,
   "metadata": {},
   "outputs": [
    {
     "name": "stdout",
     "output_type": "stream",
     "text": [
      "Median: 103.00 \n",
      "Mean: 1343.72 \n",
      "Std: 6328.21\n"
     ]
    }
   ],
   "source": [
    "# Realize that it is a skewed distribution as mean!=median\n",
    "print(f\"Median: {np.median(shapes):.2f} \\nMean: {shapes.mean():.2f} \\nStd: {shapes.std():.2f}\")"
   ]
  },
  {
   "cell_type": "code",
   "execution_count": 75,
   "metadata": {},
   "outputs": [
    {
     "data": {
      "image/png": "[encoded data removed]",
      "text/plain": [
       "<Figure size 432x288 with 1 Axes>"
      ]
     },
     "metadata": {
      "needs_background": "light"
     },
     "output_type": "display_data"
    }
   ],
   "source": [
    "# Print histogram\n",
    "shapes_sorted = sorted(shapes[0,:])\n",
    "p_80 = shapes_sorted[7000]\n",
    "\n",
    "plt.hist(shapes[shapes < p_80], bins=30)\n",
    "plt.xlabel('Number of points')\n",
    "plt.ylabel('Number of samples')\n",
    "plt.title('Histogram of number of points (capped at p_80)')\n",
    "plt.show()"
   ]
  },
  {
   "cell_type": "markdown",
   "metadata": {},
   "source": [
    "**Distribution of points**"
   ]
  },
  {
   "cell_type": "markdown",
   "metadata": {},
   "source": [
    "Load all the points in a single array (Nx3) so we can compute statistics"
   ]
  },
  {
   "cell_type": "code",
   "execution_count": 8,
   "metadata": {},
   "outputs": [
    {
     "name": "stdout",
     "output_type": "stream",
     "text": [
      "New temporal array; Iter: 0\n",
      "New temporal array; Iter: 1000\n",
      "New temporal array; Iter: 2000\n",
      "New temporal array; Iter: 3000\n",
      "New temporal array; Iter: 4000\n",
      "New temporal array; Iter: 5000\n",
      "New temporal array; Iter: 6000\n",
      "New temporal array; Iter: 7000\n",
      "New temporal array; Iter: 8000\n",
      "New temporal array; Iter: 9000\n"
     ]
    }
   ],
   "source": [
    "# It uses two different arrays so vstack runs more efficiently. As it copies the current array to\n",
    "# a new one it takes longer to complete as we add more elements to the array.\n",
    "point_container = np.zeros((1,3), dtype=int)\n",
    "temp = np.zeros((1,3), dtype=int)\n",
    "\n",
    "for i in range(10000):\n",
    "    # Every 1000 iterations we empty the temp array and create new instance\n",
    "    if i%1000 == 0:\n",
    "        print(f\"Iter: {i}; New temporal array\")\n",
    "        point_container = np.vstack((point_container, temp))\n",
    "        temp = np.zeros((1,3), dtype=int)\n",
    "    # Load pc\n",
    "    file_path = os.path.join(dataset_path, \"pointcloud1\", str(i).zfill(8)+'.npy')\n",
    "    raw_pc = np.load(file_path)\n",
    "    # Demean pc and stack to temporal array\n",
    "    pc = raw_pc - np.mean(raw_pc, axis=0)\n",
    "    temp = np.vstack((temp, pc))\n",
    "\n",
    "# Final stack of the last temporal contents\n",
    "point_container = np.vstack((point_container, temp))"
   ]
  },
  {
   "cell_type": "code",
   "execution_count": 25,
   "metadata": {},
   "outputs": [
    {
     "name": "stdout",
     "output_type": "stream",
     "text": [
      "X axis STD: 0.5893414424209404 \n",
      "Y axis STD: 0.5599442638334807 \n",
      "Z axis STD: 0.2550654766847423 \n",
      "\n"
     ]
    }
   ],
   "source": [
    "stds = np.std(point_container, axis=0)\n",
    "print(f\"X axis STD: {stds[0]} \\nY axis STD: {stds[1]} \\nZ axis STD: {stds[2]} \\n\")"
   ]
  },
  {
   "cell_type": "code",
   "execution_count": 20,
   "metadata": {},
   "outputs": [
    {
     "data": {
      "text/plain": [
       "[]"
      ]
     },
     "execution_count": 20,
     "metadata": {},
     "output_type": "execute_result"
    },
    {
     "data": {
      "image/png": "[encoded data removed]",
      "text/plain": [
       "<Figure size 432x288 with 1 Axes>"
      ]
     },
     "metadata": {
      "needs_background": "light"
     },
     "output_type": "display_data"
    }
   ],
   "source": [
    "plt.hist(point_container[:,0], bins=45)\n",
    "plt.xlabel('X axis values')\n",
    "plt.ylabel('Number of samples')\n",
    "plt.title('Histogram of X axis')\n",
    "plt.plot()"
   ]
  },
  {
   "cell_type": "code",
   "execution_count": 16,
   "metadata": {},
   "outputs": [
    {
     "data": {
      "text/plain": [
       "[]"
      ]
     },
     "execution_count": 16,
     "metadata": {},
     "output_type": "execute_result"
    },
    {
     "data": {
      "image/png": "[encoded data removed]",
      "text/plain": [
       "<Figure size 432x288 with 1 Axes>"
      ]
     },
     "metadata": {
      "needs_background": "light"
     },
     "output_type": "display_data"
    }
   ],
   "source": [
    "plt.hist(point_container[:,1], bins=45)\n",
    "plt.xlabel('Y axis values')\n",
    "plt.ylabel('Number of samples')\n",
    "plt.title('Histogram of Y axis')\n",
    "plt.plot()"
   ]
  },
  {
   "cell_type": "code",
   "execution_count": 19,
   "metadata": {},
   "outputs": [
    {
     "data": {
      "text/plain": [
       "[]"
      ]
     },
     "execution_count": 19,
     "metadata": {},
     "output_type": "execute_result"
    },
    {
     "data": {
      "image/png": "[encoded data removed]",
      "text/plain": [
       "<Figure size 432x288 with 1 Axes>"
      ]
     },
     "metadata": {
      "needs_background": "light"
     },
     "output_type": "display_data"
    }
   ],
   "source": [
    "plt.hist(point_container[:,2], bins=45)\n",
    "plt.xlabel('Z axis values')\n",
    "plt.ylabel('Number of samples')\n",
    "plt.title('Histogram of Z axis')\n",
    "plt.plot()"
   ]
  },
  {
   "cell_type": "markdown",
   "metadata": {},
   "source": [
    "**Metainformation**"
   ]
  },
  {
   "cell_type": "markdown",
   "metadata": {},
   "source": [
    "Analysis of the meta-information"
   ]
  },
  {
   "cell_type": "code",
   "execution_count": 57,
   "metadata": {},
   "outputs": [],
   "source": [
    "def to_arr(value):\n",
    "    \"\"\" Converts a string with float values to an actual list of floats \"\"\"\n",
    "    return [float(name) for name in value.split()]\n",
    "\n",
    "def fix_meta(meta):\n",
    "    \"\"\" Converts all the string coded values to lists \"\"\"\n",
    "    meta['start_position'] = to_arr(meta['start_position'])\n",
    "    meta['end_position'] = to_arr(meta['end_position'])\n",
    "    meta['translation'] = to_arr(meta['translation'])"
   ]
  },
  {
   "cell_type": "code",
   "execution_count": 61,
   "metadata": {},
   "outputs": [],
   "source": [
    "# Loads all jsons and stores them in a list(container)\n",
    "container = list()\n",
    "for i in range(10000):\n",
    "    # Create path and load file\n",
    "    file_path = os.path.join(dataset_path, \"meta\", str(i).zfill(8)+'.json')\n",
    "    with open(file_path) as json_file: meta_dict = json.load(json_file)\n",
    "    # Convert the string to lists\n",
    "    fix_meta(meta_dict)\n",
    "    # Append to file\n",
    "    container.append(meta_dict)"
   ]
  },
  {
   "cell_type": "markdown",
   "metadata": {},
   "source": [
    "Example corrected dict:"
   ]
  },
  {
   "cell_type": "code",
   "execution_count": 71,
   "metadata": {},
   "outputs": [
    {
     "data": {
      "text/plain": [
       "{'start_position': [-34.41176893828633, 52.96470770224377, 0.0],\n",
       " 'start_angle': 1.6651995446512524,\n",
       " 'end_position': [-34.38575610867945, 53.05495053017164, 0.0],\n",
       " 'end_angle': 0.6385864089522224,\n",
       " 'translation': [0.0260128296068754, 0.09024282792786918, 0.0],\n",
       " 'rel_angle': -1.02661313569903,\n",
       " 'version': 0.1,\n",
       " 'seed': 783495435,\n",
       " 'mesh_id': 39,\n",
       " 'mesh_scale': 2.9035093039132565,\n",
       " 'cat': 'car'}"
      ]
     },
     "execution_count": 71,
     "metadata": {},
     "output_type": "execute_result"
    }
   ],
   "source": [
    "container[0]"
   ]
  },
  {
   "cell_type": "markdown",
   "metadata": {},
   "source": [
    "Analysis of the translations:"
   ]
  },
  {
   "cell_type": "code",
   "execution_count": 78,
   "metadata": {},
   "outputs": [],
   "source": [
    "translations = np.zeros((len(container),2))\n",
    "for i,info in enumerate(container):\n",
    "    translations[i,:] = info['translation'][:2]"
   ]
  },
  {
   "cell_type": "code",
   "execution_count": 93,
   "metadata": {},
   "outputs": [
    {
     "name": "stdout",
     "output_type": "stream",
     "text": [
      "X axis translation STD: 0.4070773478618674 \n",
      "Y axis STD translation: 0.41024757500291864\n"
     ]
    }
   ],
   "source": [
    "stds = np.std(translations, axis=0)\n",
    "print(f\"X axis translation STD: {stds[0]} \\nY axis STD translation: {stds[1]}\")"
   ]
  },
  {
   "cell_type": "code",
   "execution_count": 89,
   "metadata": {},
   "outputs": [
    {
     "data": {
      "text/plain": [
       "[]"
      ]
     },
     "execution_count": 89,
     "metadata": {},
     "output_type": "execute_result"
    },
    {
     "data": {
      "image/png": "[encoded data removed]",
      "text/plain": [
       "<Figure size 432x288 with 1 Axes>"
      ]
     },
     "metadata": {
      "needs_background": "light"
     },
     "output_type": "display_data"
    }
   ],
   "source": [
    "plt.hist(translations[:,0], bins=25)\n",
    "plt.xlabel('X axis values')\n",
    "plt.ylabel('Number of samples')\n",
    "plt.title('Histogram of X axis translation')\n",
    "plt.plot()"
   ]
  },
  {
   "cell_type": "code",
   "execution_count": 91,
   "metadata": {},
   "outputs": [
    {
     "data": {
      "text/plain": [
       "[]"
      ]
     },
     "execution_count": 91,
     "metadata": {},
     "output_type": "execute_result"
    },
    {
     "data": {
      "image/png": "[encoded data removed]",
      "text/plain": [
       "<Figure size 432x288 with 1 Axes>"
      ]
     },
     "metadata": {
      "needs_background": "light"
     },
     "output_type": "display_data"
    }
   ],
   "source": [
    "plt.hist(translations[:,1], bins=25)\n",
    "plt.xlabel('Y axis values')\n",
    "plt.ylabel('Number of samples')\n",
    "plt.title('Histogram of Y axis translation')\n",
    "plt.plot()"
   ]
  },
  {
   "cell_type": "markdown",
   "metadata": {},
   "source": [
    "Analysis of angle rotation:"
   ]
  },
  {
   "cell_type": "code",
   "execution_count": 99,
   "metadata": {},
   "outputs": [],
   "source": [
    "rotations = np.zeros((len(container),1))\n",
    "for i,info in enumerate(container):\n",
    "    rotations[i,0] = info['rel_angle']"
   ]
  },
  {
   "cell_type": "code",
   "execution_count": 106,
   "metadata": {},
   "outputs": [
    {
     "name": "stdout",
     "output_type": "stream",
     "text": [
      "Median: 0.03 \n",
      "Mean: 0.02 \n",
      "Std: 0.91\n"
     ]
    }
   ],
   "source": [
    "print(f\"Median: {np.median(rotations):.2f} \\nMean: {rotations.mean():.2f} \\nStd: {rotations.std():.2f}\")"
   ]
  },
  {
   "cell_type": "code",
   "execution_count": 104,
   "metadata": {},
   "outputs": [
    {
     "data": {
      "text/plain": [
       "[]"
      ]
     },
     "execution_count": 104,
     "metadata": {},
     "output_type": "execute_result"
    },
    {
     "data": {
      "image/png": "[encoded data removed]",
      "text/plain": [
       "<Figure size 432x288 with 1 Axes>"
      ]
     },
     "metadata": {
      "needs_background": "light"
     },
     "output_type": "display_data"
    }
   ],
   "source": [
    "plt.hist(rotations)\n",
    "plt.xlabel('Rotation values (rad)')\n",
    "plt.ylabel('Number of samples')\n",
    "plt.title('Histogram of rotations')\n",
    "plt.plot()"
   ]
  }
 ],
 "metadata": {
  "kernelspec": {
   "display_name": "Python 3",
   "language": "python",
   "name": "python3"
  },
  "language_info": {
   "codemirror_mode": {
    "name": "ipython",
    "version": 3
   },
   "file_extension": ".py",
   "mimetype": "text/x-python",
   "name": "python",
   "nbconvert_exporter": "python",
   "pygments_lexer": "ipython3",
   "version": "3.7.6"
  }
 },
 "nbformat": 4,
 "nbformat_minor": 4
}

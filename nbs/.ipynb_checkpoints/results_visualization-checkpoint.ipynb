{
 "cells": [
  {
   "cell_type": "code",
   "execution_count": 27,
   "metadata": {},
   "outputs": [],
   "source": [
    "import pandas as pd\n",
    "import numpy as np\n",
    "import matplotlib.pyplot as plt"
   ]
  },
  {
   "cell_type": "code",
   "execution_count": 1,
   "metadata": {},
   "outputs": [],
   "source": [
    "import json\n",
    "import os"
   ]
  },
  {
   "cell_type": "code",
   "execution_count": 8,
   "metadata": {},
   "outputs": [],
   "source": [
    "home_path = '/home/usuario/'\n",
    "results_path = os.path.join(home_path, 'project_data', 'trained')\n",
    "ground_truth = os.path.join(home_path, 'project_data', 'datasets')\n",
    "all_datasets = ['SynthCars', 'SynthCarsPersons', 'Synth20', 'Synth20others', 'KITTITrackletsCars', 'KITTITrackletsCarsPersons', 'KITTITrackletsCarsHard', 'KITTITrackletsCarsPersonsHard']"
   ]
  },
  {
   "cell_type": "code",
   "execution_count": 23,
   "metadata": {},
   "outputs": [],
   "source": [
    "split_path = os.path.join(ground_truth, all_datasets[1], 'split') \n",
    "data_path = os.path.join(ground_truth, all_datasets[1], 'meta') "
   ]
  },
  {
   "cell_type": "code",
   "execution_count": 24,
   "metadata": {},
   "outputs": [],
   "source": [
    "load_path = os.path.join(data_path, '00000000.json')\n",
    "with open(load_path) as f:\n",
    "    data = json.load(f)"
   ]
  },
  {
   "cell_type": "code",
   "execution_count": 25,
   "metadata": {},
   "outputs": [
    {
     "data": {
      "text/plain": [
       "{'start_position': '-3.441176893828632899e+01\\n5.296470770224377134e+01\\n0.000000000000000000e+00\\n',\n",
       " 'start_angle': 1.6651995446512524,\n",
       " 'end_position': '-3.438575610867945187e+01\\n5.305495053017163798e+01\\n0.000000000000000000e+00\\n',\n",
       " 'end_angle': 0.6385864089522224,\n",
       " 'translation': '2.601282960687539836e-02\\n9.024282792786918195e-02\\n0.000000000000000000e+00\\n',\n",
       " 'rel_angle': -1.02661313569903,\n",
       " 'version': 0.1,\n",
       " 'seed': 783495435,\n",
       " 'mesh_id': 39,\n",
       " 'mesh_scale': 2.9035093039132565,\n",
       " 'cat': 'car'}"
      ]
     },
     "execution_count": 25,
     "metadata": {},
     "output_type": "execute_result"
    }
   ],
   "source": [
    "data"
   ]
  },
  {
   "cell_type": "code",
   "execution_count": 38,
   "metadata": {},
   "outputs": [],
   "source": [
    "\n",
    "path = '/home/usuario/project_data/trained/KITTITrackletsCars/val/eval000038/eval.json'"
   ]
  },
  {
   "cell_type": "code",
   "execution_count": 39,
   "metadata": {},
   "outputs": [
    {
     "data": {
      "text/plain": [
       "'/home/usuario/project_data/trained'"
      ]
     },
     "execution_count": 39,
     "metadata": {},
     "output_type": "execute_result"
    }
   ],
   "source": [
    "results_path"
   ]
  },
  {
   "cell_type": "code",
   "execution_count": 40,
   "metadata": {},
   "outputs": [],
   "source": [
    "with open(path) as f:\n",
    "    data = json.load(f)"
   ]
  },
  {
   "cell_type": "code",
   "execution_count": 36,
   "metadata": {},
   "outputs": [],
   "source": [
    "path = '/home/usuario/project_data/trained/KITTITrackletsCars/val/eval000038/pred_translations.npy'\n",
    "arr = np.load(path)"
   ]
  },
  {
   "cell_type": "code",
   "execution_count": 37,
   "metadata": {},
   "outputs": [
    {
     "data": {
      "text/plain": [
       "(8790, 3)"
      ]
     },
     "execution_count": 37,
     "metadata": {},
     "output_type": "execute_result"
    }
   ],
   "source": [
    "arr.shape"
   ]
  },
  {
   "cell_type": "code",
   "execution_count": 41,
   "metadata": {
    "scrolled": false
   },
   "outputs": [
    {
     "data": {
      "text/plain": [
       "{'corr_levels': [0.06575654152445962, 0.5064846416382253, 0.7560864618885097],\n",
       " 'corr_levels_translation': [0.08088737201365187,\n",
       "  0.5994311717861206,\n",
       "  0.777929465301479],\n",
       " 'mean_dist_translation': 0.18832904062695024,\n",
       " 'mean_sq_dist_translation': 0.3569624349553742,\n",
       " 'corr_levels_angles': [0.5656427758816838,\n",
       "  0.6896473265073948,\n",
       "  0.8312855517633675],\n",
       " 'mean_dist_angle': 26.931376687623708,\n",
       " 'mean_sq_dist_angle': 65.31112480331223,\n",
       " 'eval_5m': {'corr_levels': [0.11764705882352941,\n",
       "   0.7450980392156863,\n",
       "   0.9607843137254902],\n",
       "  'corr_levels_translation': [0.1323529411764706,\n",
       "   0.7941176470588235,\n",
       "   0.9705882352941176],\n",
       "  'mean_dist_translation': 0.06932576982003144,\n",
       "  'mean_sq_dist_translation': 0.0971475377702049,\n",
       "  'corr_levels_angles': [0.7941176470588235,\n",
       "   0.8970588235294118,\n",
       "   0.9852941176470589],\n",
       "  'mean_dist_angle': 3.8360794550628947,\n",
       "  'mean_sq_dist_angle': 21.23099366403795,\n",
       "  'num': 204},\n",
       " 'reg_eval': {'fitness': 0.026486898929736827,\n",
       "  'inlier_rmse': 0.005294464083811209},\n",
       " 'num': 8790,\n",
       " 'mean_time': 0.0011145605026522864}"
      ]
     },
     "execution_count": 41,
     "metadata": {},
     "output_type": "execute_result"
    }
   ],
   "source": [
    "data"
   ]
  },
  {
   "cell_type": "code",
   "execution_count": null,
   "metadata": {},
   "outputs": [],
   "source": []
  }
 ],
 "metadata": {
  "kernelspec": {
   "display_name": "Python 3",
   "language": "python",
   "name": "python3"
  },
  "language_info": {
   "codemirror_mode": {
    "name": "ipython",
    "version": 3
   },
   "file_extension": ".py",
   "mimetype": "text/x-python",
   "name": "python",
   "nbconvert_exporter": "python",
   "pygments_lexer": "ipython3",
   "version": "3.7.6"
  }
 },
 "nbformat": 4,
 "nbformat_minor": 4
}

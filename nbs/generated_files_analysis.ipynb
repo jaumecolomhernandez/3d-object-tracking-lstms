{
 "cells": [
  {
   "cell_type": "markdown",
   "metadata": {},
   "source": [
    "# Path analysis"
   ]
  },
  {
   "cell_type": "code",
   "execution_count": 4,
   "metadata": {},
   "outputs": [],
   "source": [
    "# Necessary imports\n",
    "import pandas as pd\n",
    "import numpy as np\n",
    "import matplotlib.pyplot as plt\n",
    "\n",
    "import json\n",
    "import os"
   ]
  },
  {
   "cell_type": "markdown",
   "metadata": {},
   "source": [
    "#### Path setup"
   ]
  },
  {
   "cell_type": "code",
   "execution_count": 123,
   "metadata": {},
   "outputs": [],
   "source": [
    "# Paths definition\n",
    "home_path = '/home/usuario/'\n",
    "\n",
    "datasets_path = os.path.join(home_path, 'project_data', 'datasets')\n",
    "new_path = os.path.join(home_path, 'project_data', 'new_datasets')\n",
    "\n",
    "all_datasets = ['KITTITrackletsCars', 'KITTITrackletsCarsPersons', 'KITTITrackletsCarsHard', 'KITTITrackletsCarsPersonsHard']\n",
    "\n",
    "dataset_path = os.path.join(datasets_path, all_datasets[1])"
   ]
  },
  {
   "cell_type": "code",
   "execution_count": 6,
   "metadata": {},
   "outputs": [],
   "source": [
    "# Util to load json\n",
    "def read_paths(filepath):\n",
    "    \"\"\" Read path json file from filepath \"\"\"\n",
    "    with open(filepath) as file:\n",
    "        name_cont = json.load(file)\n",
    "    return name_cont"
   ]
  },
  {
   "cell_type": "code",
   "execution_count": 273,
   "metadata": {},
   "outputs": [],
   "source": [
    "# Load path dictionary\n",
    "path_cont = read_paths(os.path.join(datasets_path, all_datasets[1], \"paths.json\"))\n",
    "# Load information on the different trajectories\n",
    "eval_info = pd.read_csv(os.path.join(datasets_path, all_datasets[1], \"info_eval.csv\"))\n",
    "train_info = pd.read_csv(os.path.join(datasets_path, all_datasets[1], \"info_train.csv\"))\n",
    "all_info = pd.read_csv(os.path.join(datasets_path, all_datasets[1], \"info_all.csv\"))\n",
    "\n",
    "# Load prediction from NN\n",
    "predictions = pd.read_csv(os.path.join(datasets_path, all_datasets[1], \"NN_output.csv\"))\n"
   ]
  },
  {
   "cell_type": "markdown",
   "metadata": {},
   "source": [
    "#### Verification of the generated paths"
   ]
  },
  {
   "cell_type": "code",
   "execution_count": 110,
   "metadata": {},
   "outputs": [],
   "source": [
    "def test_existing_paths(path_dict, path_info):\n",
    "    \"\"\" Compares if both the path dictionary and the path information csv have the same observations \n",
    "        The path dictionary contains in explicit format the full observation number, instead the \n",
    "        path csv contains a codified expression (first_point + n_points). So this function generates\n",
    "        the full list of observations based on the coded expression and checks if it is the same.\n",
    "        Params:\n",
    "        - path_dict: (dict) containing the path name (string) (seq_track) as key and a list with all\n",
    "        the different names\n",
    "        - path_info: (pd.DataFrame) with different info on the paths\n",
    "        Returns:\n",
    "        - Boolean: if true it is correct if not not.\n",
    "    \"\"\"\n",
    "    # Pass to list of names\n",
    "    names1 = list(path_dict.keys())\n",
    "    names2 = list(path_info['name'].values)\n",
    "    \n",
    "    # Check if all the eval are the same\n",
    "    if (names1 != names2):\n",
    "        return False\n",
    "    \n",
    "    for i in range(len(names1)):\n",
    "        # Observations from dictionary\n",
    "        individual_obs = path_dict[names1[i]]\n",
    "        \n",
    "        # Observations from the csv\n",
    "        info_obs = path_info.iloc[i] # Read CSV\n",
    "        synth_obs = generate_names(info_obs)\n",
    "        \n",
    "        if individual_obs != synth_obs:\n",
    "            print(f\"Path {names1[i]} not correct\")\n",
    "            return False\n",
    "    \n",
    "    \n",
    "    return True"
   ]
  },
  {
   "cell_type": "code",
   "execution_count": 116,
   "metadata": {},
   "outputs": [],
   "source": [
    "def generate_names(info_obs):\n",
    "    \"\"\" Generates list of names given route info \"\"\"\n",
    "    return [str(i).zfill(8) for i in range(info_obs['first_point'], info_obs['first_point']+info_obs['n_points'])]"
   ]
  },
  {
   "cell_type": "code",
   "execution_count": 119,
   "metadata": {},
   "outputs": [
    {
     "data": {
      "text/plain": [
       "True"
      ]
     },
     "execution_count": 119,
     "metadata": {},
     "output_type": "execute_result"
    }
   ],
   "source": [
    "# This tests that everything is working correctly\n",
    "test_existing_paths(path_cont, all_info)"
   ]
  },
  {
   "cell_type": "markdown",
   "metadata": {},
   "source": [
    "#### Load utils"
   ]
  },
  {
   "cell_type": "code",
   "execution_count": 171,
   "metadata": {},
   "outputs": [],
   "source": [
    "def to_arr(value):\n",
    "    \"\"\" Converts a string with float values to an actual list of floats \"\"\"\n",
    "    return [float(name) for name in value.split()]\n",
    "\n",
    "def fix_meta(meta):\n",
    "    \"\"\" Converts all the string coded values to lists \"\"\"\n",
    "    meta['start_position'] = to_arr(meta['start_position'])\n",
    "    meta['end_position'] = to_arr(meta['end_position'])\n",
    "    meta['translation'] = to_arr(meta['translation'])"
   ]
  },
  {
   "cell_type": "code",
   "execution_count": 172,
   "metadata": {},
   "outputs": [],
   "source": [
    "def load_single_path(dataset_path, names):\n",
    "    container = list()\n",
    "    for name in names:\n",
    "        file_path = os.path.join(dataset_path, 'meta', f\"{name}.json\")\n",
    "        with open(file_path) as json_file: observation = json.load(json_file)\n",
    "        fix_meta(observation)\n",
    "        container.append(observation)\n",
    "\n",
    "    return container"
   ]
  },
  {
   "cell_type": "markdown",
   "metadata": {},
   "source": [
    "#### Routes visualization"
   ]
  },
  {
   "cell_type": "code",
   "execution_count": 335,
   "metadata": {},
   "outputs": [],
   "source": [
    "def plot_route_meta(metas):\n",
    "    \"\"\" Plots routes from meta files \"\"\"\n",
    "    positions_s = {'x':[], 'y':[]}\n",
    "    for obs in metas:\n",
    "        positions_s['x'].append(obs['start_position'][0])\n",
    "        positions_s['y'].append(obs['start_position'][1])\n",
    "    positions_e = {'x':[], 'y':[]}\n",
    "    for obs in metas:\n",
    "        positions_e['x'].append(obs['end_position'][0])\n",
    "        positions_e['y'].append(obs['end_position'][1])\n",
    "\n",
    "    plt.plot(positions_s['x'], positions_s['y'], 'o',color='black')\n",
    "    plt.plot(positions_e['x'], positions_e['y'], 'o', color='orange')\n",
    "    plt.show()"
   ]
  },
  {
   "cell_type": "code",
   "execution_count": 336,
   "metadata": {},
   "outputs": [],
   "source": [
    "i = 100"
   ]
  },
  {
   "cell_type": "code",
   "execution_count": 340,
   "metadata": {},
   "outputs": [
    {
     "data": {
      "image/png": "[encoded data removed]",
      "text/plain": [
       "<Figure size 432x288 with 1 Axes>"
      ]
     },
     "metadata": {
      "needs_background": "light"
     },
     "output_type": "display_data"
    }
   ],
   "source": [
    "names = generate_names(eval_info.iloc[i])\n",
    "metas = load_single_path(dataset_path, names)\n",
    "plot_route_meta(metas)\n",
    "i += 1"
   ]
  },
  {
   "cell_type": "code",
   "execution_count": 274,
   "metadata": {},
   "outputs": [
    {
     "data": {
      "text/html": [
       "<div>\n",
       "<style scoped>\n",
       "    .dataframe tbody tr th:only-of-type {\n",
       "        vertical-align: middle;\n",
       "    }\n",
       "\n",
       "    .dataframe tbody tr th {\n",
       "        vertical-align: top;\n",
       "    }\n",
       "\n",
       "    .dataframe thead th {\n",
       "        text-align: right;\n",
       "    }\n",
       "</style>\n",
       "<table border=\"1\" class=\"dataframe\">\n",
       "  <thead>\n",
       "    <tr style=\"text-align: right;\">\n",
       "      <th></th>\n",
       "      <th>name</th>\n",
       "      <th>type</th>\n",
       "      <th>first_point</th>\n",
       "      <th>n_points</th>\n",
       "      <th>cumsum</th>\n",
       "    </tr>\n",
       "  </thead>\n",
       "  <tbody>\n",
       "    <tr>\n",
       "      <th>0</th>\n",
       "      <td>0_0</td>\n",
       "      <td>T</td>\n",
       "      <td>0</td>\n",
       "      <td>153</td>\n",
       "      <td>0</td>\n",
       "    </tr>\n",
       "    <tr>\n",
       "      <th>1</th>\n",
       "      <td>0_2</td>\n",
       "      <td>T</td>\n",
       "      <td>153</td>\n",
       "      <td>5</td>\n",
       "      <td>153</td>\n",
       "    </tr>\n",
       "    <tr>\n",
       "      <th>2</th>\n",
       "      <td>0_3</td>\n",
       "      <td>T</td>\n",
       "      <td>158</td>\n",
       "      <td>109</td>\n",
       "      <td>158</td>\n",
       "    </tr>\n",
       "    <tr>\n",
       "      <th>3</th>\n",
       "      <td>0_4</td>\n",
       "      <td>T</td>\n",
       "      <td>267</td>\n",
       "      <td>34</td>\n",
       "      <td>267</td>\n",
       "    </tr>\n",
       "    <tr>\n",
       "      <th>4</th>\n",
       "      <td>0_5</td>\n",
       "      <td>T</td>\n",
       "      <td>301</td>\n",
       "      <td>7</td>\n",
       "      <td>301</td>\n",
       "    </tr>\n",
       "    <tr>\n",
       "      <th>...</th>\n",
       "      <td>...</td>\n",
       "      <td>...</td>\n",
       "      <td>...</td>\n",
       "      <td>...</td>\n",
       "      <td>...</td>\n",
       "    </tr>\n",
       "    <tr>\n",
       "      <th>556</th>\n",
       "      <td>20_129</td>\n",
       "      <td>T</td>\n",
       "      <td>28401</td>\n",
       "      <td>18</td>\n",
       "      <td>28401</td>\n",
       "    </tr>\n",
       "    <tr>\n",
       "      <th>557</th>\n",
       "      <td>20_130</td>\n",
       "      <td>T</td>\n",
       "      <td>28419</td>\n",
       "      <td>3</td>\n",
       "      <td>28419</td>\n",
       "    </tr>\n",
       "    <tr>\n",
       "      <th>558</th>\n",
       "      <td>20_131</td>\n",
       "      <td>T</td>\n",
       "      <td>28422</td>\n",
       "      <td>3</td>\n",
       "      <td>28422</td>\n",
       "    </tr>\n",
       "    <tr>\n",
       "      <th>559</th>\n",
       "      <td>20_132</td>\n",
       "      <td>T</td>\n",
       "      <td>28425</td>\n",
       "      <td>12</td>\n",
       "      <td>28425</td>\n",
       "    </tr>\n",
       "    <tr>\n",
       "      <th>560</th>\n",
       "      <td>20_133</td>\n",
       "      <td>T</td>\n",
       "      <td>28437</td>\n",
       "      <td>26</td>\n",
       "      <td>28437</td>\n",
       "    </tr>\n",
       "  </tbody>\n",
       "</table>\n",
       "<p>561 rows × 5 columns</p>\n",
       "</div>"
      ],
      "text/plain": [
       "       name type  first_point  n_points  cumsum\n",
       "0       0_0    T            0       153       0\n",
       "1       0_2    T          153         5     153\n",
       "2       0_3    T          158       109     158\n",
       "3       0_4    T          267        34     267\n",
       "4       0_5    T          301         7     301\n",
       "..      ...  ...          ...       ...     ...\n",
       "556  20_129    T        28401        18   28401\n",
       "557  20_130    T        28419         3   28419\n",
       "558  20_131    T        28422         3   28422\n",
       "559  20_132    T        28425        12   28425\n",
       "560  20_133    T        28437        26   28437\n",
       "\n",
       "[561 rows x 5 columns]"
      ]
     },
     "execution_count": 274,
     "metadata": {},
     "output_type": "execute_result"
    }
   ],
   "source": [
    "train_info"
   ]
  },
  {
   "cell_type": "code",
   "execution_count": 272,
   "metadata": {},
   "outputs": [],
   "source": [
    "eval_info['cumsum'] = np.concatenate(([0],eval_info['n_points'].cumsum().values))[:-1]\n"
   ]
  },
  {
   "cell_type": "code",
   "execution_count": null,
   "metadata": {},
   "outputs": [],
   "source": []
  }
 ],
 "metadata": {
  "kernelspec": {
   "display_name": "Python 3",
   "language": "python",
   "name": "python3"
  },
  "language_info": {
   "codemirror_mode": {
    "name": "ipython",
    "version": 3
   },
   "file_extension": ".py",
   "mimetype": "text/x-python",
   "name": "python",
   "nbconvert_exporter": "python",
   "pygments_lexer": "ipython3",
   "version": "3.7.6"
  }
 },
 "nbformat": 4,
 "nbformat_minor": 4
}

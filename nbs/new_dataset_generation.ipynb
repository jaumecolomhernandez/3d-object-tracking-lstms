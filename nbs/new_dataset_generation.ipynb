{
 "cells": [
  {
   "cell_type": "markdown",
   "metadata": {},
   "source": [
    "# **New dataset generation**\n",
    "This notebook takes the original alignet dataset and creates the new one. It extracts the different trajectories and redistributes them in a new folder architecture."
   ]
  },
  {
   "cell_type": "code",
   "execution_count": 1,
   "metadata": {},
   "outputs": [],
   "source": [
    "import pandas as pd\n",
    "import numpy as np\n",
    "import matplotlib.pyplot as plt\n",
    "\n",
    "import json\n",
    "import os"
   ]
  },
  {
   "cell_type": "code",
   "execution_count": 2,
   "metadata": {},
   "outputs": [],
   "source": [
    "home_path = '/home/usuario/'\n",
    "\n",
    "datasets_path = os.path.join(home_path, 'project_data', 'datasets')\n",
    "\n",
    "all_datasets = ['SynthCars', 'SynthCarsPersons', 'Synth20', 'Synth20others', 'KITTITrackletsCars', 'KITTITrackletsCarsPersons', 'KITTITrackletsCarsHard', 'KITTITrackletsCarsPersonsHard']"
   ]
  },
  {
   "cell_type": "markdown",
   "metadata": {},
   "source": [
    "Utils to fix the json meta files. Convert to array."
   ]
  },
  {
   "cell_type": "code",
   "execution_count": 3,
   "metadata": {},
   "outputs": [],
   "source": [
    "def to_arr(value):\n",
    "    \"\"\" Converts a string with float values to an actual list of floats \"\"\"\n",
    "    return [float(name) for name in value.split()]\n",
    "\n",
    "def fix_meta(meta):\n",
    "    \"\"\" Converts all the string coded values to lists \"\"\"\n",
    "    meta['start_position'] = to_arr(meta['start_position'])\n",
    "    meta['end_position'] = to_arr(meta['end_position'])\n",
    "    meta['translation'] = to_arr(meta['translation'])"
   ]
  },
  {
   "cell_type": "markdown",
   "metadata": {},
   "source": [
    "Util to plot positions."
   ]
  },
  {
   "cell_type": "code",
   "execution_count": 4,
   "metadata": {},
   "outputs": [],
   "source": [
    "def plot_points(values):\n",
    "    positions_s = {'x':[], 'y':[]}\n",
    "    for obs in values:\n",
    "        positions_s['x'].append(obs['start_position'][0])\n",
    "        positions_s['y'].append(obs['start_position'][1])\n",
    "    positions_e = {'x':[], 'y':[]}\n",
    "    for obs in values:\n",
    "        positions_e['x'].append(obs['end_position'][0])\n",
    "        positions_e['y'].append(obs['end_position'][1])\n",
    "\n",
    "    plt.scatter(positions_s['x'], positions_s['y'])\n",
    "    plt.scatter(positions_e['x'], positions_e['y'])"
   ]
  },
  {
   "cell_type": "markdown",
   "metadata": {},
   "source": [
    "None of the synthetic datasets works for us as they don't contain any trajectory. So I will only work in the KITTI datasets."
   ]
  },
  {
   "cell_type": "markdown",
   "metadata": {},
   "source": [
    "### **KITTI datasets**"
   ]
  },
  {
   "cell_type": "markdown",
   "metadata": {},
   "source": [
    "1.Load all the meta.json"
   ]
  },
  {
   "cell_type": "code",
   "execution_count": 5,
   "metadata": {},
   "outputs": [],
   "source": [
    "# Create dataset path\n",
    "dataset_path = os.path.join(datasets_path, all_datasets[4]) \n",
    "# Loads all jsons and stores them in a list(container)\n",
    "container = list()\n",
    "for i in range(10000):\n",
    "    # Create path and load file\n",
    "    file_path = os.path.join(dataset_path, \"meta\", str(i).zfill(8)+'.json')\n",
    "    with open(file_path) as json_file: meta_dict = json.load(json_file)\n",
    "    # Convert the string to lists\n",
    "    fix_meta(meta_dict)\n",
    "    meta_dict['filename'] = str(i).zfill(8)\n",
    "    # Append to file\n",
    "    container.append(meta_dict)"
   ]
  },
  {
   "cell_type": "markdown",
   "metadata": {},
   "source": [
    "2.Slice the files by 'seq' and 'trackids' parameters"
   ]
  },
  {
   "cell_type": "code",
   "execution_count": 6,
   "metadata": {},
   "outputs": [],
   "source": [
    "# Get unique seq_ids in the list of dicts\n",
    "seqs = list(set(meta['seq'] for meta in container)) \n",
    "\n",
    "# Store the correct meta files in each dict key (seq_ids)\n",
    "seq_metas = {seq: [] for seq in seqs}\n",
    "for meta in container: \n",
    "    seq_metas[meta['seq']].append(meta)"
   ]
  },
  {
   "cell_type": "code",
   "execution_count": 7,
   "metadata": {},
   "outputs": [],
   "source": [
    "# Get unique seq_ids in the list of dicts\n",
    "seqs = list(set(meta['seq'] for meta in container)) \n",
    "\n",
    "# Store the correct meta files in each dict key (seq_ids)\n",
    "seq_metas = {seq: [] for seq in seqs}\n",
    "for meta in container: \n",
    "    seq_metas[meta['seq']].append(meta)\n",
    "\n",
    "seq_track_metas = dict()\n",
    "\n",
    "for seq_id in seq_metas.keys():    \n",
    "    # This is a list containing all the meta dicts of specific seq_id\n",
    "    curr_metas = seq_metas[seq_id] \n",
    "    \n",
    "    # Get unique trackids in the dicts\n",
    "    track_ids = list(set(meta['trackids'][0] for meta in curr_metas)) \n",
    "    \n",
    "    # Store the different metas at each key (track_ids)\n",
    "    track_metas = {idn: [] for idn in track_ids}\n",
    "    for meta in curr_metas: \n",
    "        track_metas[meta['trackids'][0]].append(meta)\n",
    "    \n",
    "    # The seq_id is used as key to store the computed dict\n",
    "    # The output is a dict of dicts\n",
    "    seq_track_metas[seq_id] = track_metas"
   ]
  },
  {
   "cell_type": "markdown",
   "metadata": {},
   "source": [
    "2.1.Check the resulting results"
   ]
  },
  {
   "cell_type": "code",
   "execution_count": 43,
   "metadata": {},
   "outputs": [],
   "source": [
    "# Get possible keys for the seq_track_metas double dict\n",
    "key_dict = {key: list(seq_track_metas[key].keys()) for key in seq_track_metas.keys()}"
   ]
  },
  {
   "cell_type": "code",
   "execution_count": 44,
   "metadata": {},
   "outputs": [
    {
     "data": {
      "text/plain": [
       "[0, 3, 4, 5, 6, 7, 8, 9, 10, 11, 12, 14]"
      ]
     },
     "execution_count": 44,
     "metadata": {},
     "output_type": "execute_result"
    }
   ],
   "source": [
    "key_dict[0]"
   ]
  },
  {
   "cell_type": "code",
   "execution_count": 45,
   "metadata": {
    "scrolled": true
   },
   "outputs": [
    {
     "data": {
      "image/png": "[encoded data removed]",
      "text/plain": [
       "<Figure size 432x288 with 1 Axes>"
      ]
     },
     "metadata": {
      "needs_background": "light"
     },
     "output_type": "display_data"
    }
   ],
   "source": [
    "# Handcheck of the resulting paths\n",
    "plot_points(seq_track_metas[0][12])"
   ]
  },
  {
   "cell_type": "markdown",
   "metadata": {},
   "source": [
    "3.Export to the desired folder structure"
   ]
  },
  {
   "cell_type": "code",
   "execution_count": 14,
   "metadata": {},
   "outputs": [],
   "source": [
    "# Util to create folders\n",
    "import pathlib\n",
    "def mk_folder(path):    \n",
    "    \"\"\" Util to create folder NO COMPLAINS! \"\"\"\n",
    "    pathlib.Path(path).mkdir(parents=True, exist_ok=True)"
   ]
  },
  {
   "cell_type": "code",
   "execution_count": 70,
   "metadata": {},
   "outputs": [
    {
     "name": "stdout",
     "output_type": "stream",
     "text": [
      "Folder '/home/usuario/project_data/new_datasets' already exists\n"
     ]
    }
   ],
   "source": [
    "# Create folder (new_datasets)\n",
    "new_path = os.path.join(home_path, 'project_data', 'new_datasets')\n",
    "\n",
    "mk_folder(new_path)"
   ]
  },
  {
   "cell_type": "code",
   "execution_count": 47,
   "metadata": {},
   "outputs": [],
   "source": [
    "# Different keys to access by\n",
    "key_dict = {key: list(seq_track_metas[key].keys()) for i, key in enumerate(seq_track_metas.keys())}"
   ]
  },
  {
   "cell_type": "code",
   "execution_count": 91,
   "metadata": {},
   "outputs": [],
   "source": [
    "# TODO: Comment all of this!\n",
    "for seq_id in seq_track_metas.keys():\n",
    "    for track_id in seq_track_metas[seq_id].keys():\n",
    "\n",
    "        curr_folder_path = os.path.join(new_path,str(seq_id),str(track_id))\n",
    "        mk_folder(curr_folder_path)\n",
    "\n",
    "        curr_trajectory = seq_track_metas[seq_id][track_id]\n",
    "\n",
    "        for time_point in curr_trajectory:\n",
    "            outputfile_path = os.path.join(curr_folder_path, f\"{time_point['filename']}.json\")\n",
    "            with open(outputfile_path, 'w') as json_file:\n",
    "                json.dump(time_point, json_file, indent=4)"
   ]
  },
  {
   "cell_type": "markdown",
   "metadata": {},
   "source": [
    "4.Convert the code to functions"
   ]
  },
  {
   "cell_type": "code",
   "execution_count": 21,
   "metadata": {},
   "outputs": [],
   "source": [
    "def to_arr(value):\n",
    "    \"\"\" Converts a string with float values to an actual list of floats \"\"\"\n",
    "    return [float(name) for name in value.split()]\n",
    "\n",
    "def fix_meta(meta):\n",
    "    \"\"\" Converts all the string coded values to lists \"\"\"\n",
    "    meta['start_position'] = to_arr(meta['start_position'])\n",
    "    meta['end_position'] = to_arr(meta['end_position'])\n",
    "    meta['translation'] = to_arr(meta['translation'])"
   ]
  },
  {
   "cell_type": "code",
   "execution_count": 20,
   "metadata": {},
   "outputs": [],
   "source": [
    "# Util to create folders\n",
    "import pathlib\n",
    "def mk_folder(path):    \n",
    "    \"\"\" Util to create folder NO COMPLAINS! \"\"\"\n",
    "    pathlib.Path(path).mkdir(parents=True, exist_ok=True)"
   ]
  },
  {
   "cell_type": "code",
   "execution_count": 16,
   "metadata": {},
   "outputs": [],
   "source": [
    "# Functions to store single seq_ids and track_ids to folders\n",
    "def store_single_path(curr_folder_path, curr_trajectory):\n",
    "    for time_point in curr_trajectory:\n",
    "        outputfile_path = os.path.join(curr_folder_path, f\"{time_point['filename']}.json\")\n",
    "        with open(outputfile_path, 'w') as json_file:\n",
    "            json.dump(time_point, json_file, indent=4)\n",
    "    \n",
    "\n",
    "def store_seq(new_path, seq_track_metas):\n",
    "    for seq_id in seq_track_metas.keys():\n",
    "        print(f\"\\tConverting {seq_id}...\")\n",
    "        for track_id in seq_track_metas[seq_id].keys():\n",
    "\n",
    "            curr_folder_path = os.path.join(new_path,str(seq_id),str(track_id))\n",
    "            mk_folder(curr_folder_path)\n",
    "\n",
    "            curr_trajectory = seq_track_metas[seq_id][track_id]\n",
    "\n",
    "            store_single_path(curr_folder_path, curr_trajectory)"
   ]
  },
  {
   "cell_type": "code",
   "execution_count": 12,
   "metadata": {},
   "outputs": [],
   "source": [
    "# Create dataset path\n",
    "def load_all_metas(dataset_path):\n",
    "    # Loads all jsons and stores them in a list(container)\n",
    "    container = list()\n",
    "    for i in range(10000):\n",
    "        # Create path and load file\n",
    "        file_path = os.path.join(dataset_path, \"meta\", str(i).zfill(8)+'.json')\n",
    "        with open(file_path) as json_file: meta_dict = json.load(json_file)\n",
    "        # Convert the string to lists\n",
    "        fix_meta(meta_dict)\n",
    "        meta_dict['filename'] = str(i).zfill(8)\n",
    "        # Append to file\n",
    "        container.append(meta_dict)\n",
    "    \n",
    "    return container"
   ]
  },
  {
   "cell_type": "code",
   "execution_count": 18,
   "metadata": {},
   "outputs": [],
   "source": [
    "def slice_seq_track(all_metas): \n",
    "    # Get unique seq_ids in the list of dicts\n",
    "    seqs = list(set(meta['seq'] for meta in all_metas)) \n",
    "\n",
    "    # Store the correct meta files in each dict key (seq_ids)\n",
    "    seq_metas = {seq: [] for seq in seqs}\n",
    "    for meta in all_metas: \n",
    "        seq_metas[meta['seq']].append(meta)\n",
    "\n",
    "    seq_track_metas = dict()\n",
    "\n",
    "    for seq_id in seq_metas.keys():    \n",
    "        # This is a list containing all the meta dicts of specific seq_id\n",
    "        curr_metas = seq_metas[seq_id] \n",
    "\n",
    "        # Get unique trackids in the dicts\n",
    "        track_ids = list(set(meta['trackids'][0] for meta in curr_metas)) \n",
    "\n",
    "        # Store the different metas at each key (track_ids)\n",
    "        track_metas = {idn: [] for idn in track_ids}\n",
    "        for meta in curr_metas: \n",
    "            track_metas[meta['trackids'][0]].append(meta)\n",
    "\n",
    "        # The seq_id is used as key to store the computed dict\n",
    "        # The output is a dict of dicts\n",
    "        seq_track_metas[seq_id] = track_metas\n",
    "    \n",
    "    return seq_track_metas"
   ]
  },
  {
   "cell_type": "code",
   "execution_count": 19,
   "metadata": {},
   "outputs": [
    {
     "name": "stdout",
     "output_type": "stream",
     "text": [
      "Now converting KITTITrackletsCars\n",
      "\tConverting 0...\n",
      "\tConverting 1...\n",
      "\tConverting 3...\n",
      "\tConverting 4...\n",
      "\tConverting 5...\n",
      "\tConverting 9...\n",
      "\tConverting 11...\n",
      "Now converting KITTITrackletsCarsPersons\n",
      "\tConverting 0...\n",
      "\tConverting 1...\n",
      "\tConverting 3...\n",
      "\tConverting 4...\n",
      "\tConverting 5...\n",
      "\tConverting 9...\n",
      "\tConverting 11...\n",
      "Now converting KITTITrackletsCarsHard\n",
      "\tConverting 0...\n",
      "\tConverting 1...\n",
      "\tConverting 4...\n",
      "\tConverting 9...\n",
      "\tConverting 12...\n",
      "\tConverting 15...\n",
      "\tConverting 20...\n",
      "Now converting KITTITrackletsCarsPersonsHard\n",
      "\tConverting 0...\n",
      "\tConverting 1...\n",
      "\tConverting 4...\n",
      "\tConverting 9...\n",
      "\tConverting 12...\n",
      "\tConverting 15...\n",
      "\tConverting 19...\n",
      "\tConverting 20...\n"
     ]
    }
   ],
   "source": [
    "# Path definition\n",
    "home_path = '/home/usuario/'\n",
    "datasets_path = os.path.join(home_path, 'project_data', 'datasets')\n",
    "new_path = os.path.join(home_path, 'project_data', 'new_datasets')\n",
    "\n",
    "# This are all the KITTI datasets we can use\n",
    "KITTIDatasets = ['KITTITrackletsCars', 'KITTITrackletsCarsPersons', 'KITTITrackletsCarsHard', 'KITTITrackletsCarsPersonsHard']\n",
    "\n",
    "\n",
    "for name in KITTIDatasets:\n",
    "    print(f\"Now converting {name}\")\n",
    "    \n",
    "    # 1.Load all metas from dataset\n",
    "    # datasets_path should be from class\n",
    "    dataset_path = os.path.join(datasets_path, name)\n",
    "    all_metas = load_all_metas(dataset_path)\n",
    "    \n",
    "    # 2.Slice datasets by seq_id and track_id\n",
    "    seq_track_metas = slice_seq_track(all_metas)\n",
    "    \n",
    "    # 3.Store paths\n",
    "    # Create paths and folder\n",
    "    destination_path = os.path.join(new_path, name)\n",
    "    mk_folder(new_path)\n",
    "    \n",
    "    store_seq(destination_path, seq_track_metas)\n",
    "\n",
    "print(\"Done!\")"
   ]
  },
  {
   "cell_type": "code",
   "execution_count": null,
   "metadata": {},
   "outputs": [],
   "source": []
  }
 ],
 "metadata": {
  "kernelspec": {
   "display_name": "Python 3",
   "language": "python",
   "name": "python3"
  },
  "language_info": {
   "codemirror_mode": {
    "name": "ipython",
    "version": 3
   },
   "file_extension": ".py",
   "mimetype": "text/x-python",
   "name": "python",
   "nbconvert_exporter": "python",
   "pygments_lexer": "ipython3",
   "version": "3.7.6"
  }
 },
 "nbformat": 4,
 "nbformat_minor": 4
}

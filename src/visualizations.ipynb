{
 "cells": [
  {
   "cell_type": "code",
   "execution_count": 2,
   "metadata": {},
   "outputs": [],
   "source": [
    "import os\n",
    "import pandas as pd\n",
    "import numpy as np"
   ]
  },
  {
   "cell_type": "code",
   "execution_count": 3,
   "metadata": {},
   "outputs": [],
   "source": [
    "home_path = '/home/usuario/'\n",
    "\n",
    "datasets_path = os.path.join(home_path, 'project_data', 'datasets')\n",
    "all_datasets = ['KITTITrackletsCars', 'KITTITrackletsPersons',  'KITTITrackletsCarsPersons', 'KITTITrackletsCarsHard', 'KITTITrackletsCarsPersonsHard']\n",
    "dataset_path = os.path.join(datasets_path, all_datasets[0])\n",
    "\n",
    "eval_info = pd.read_csv(os.path.join(dataset_path, \"info_eval.csv\"))"
   ]
  },
  {
   "cell_type": "code",
   "execution_count": 8,
   "metadata": {},
   "outputs": [],
   "source": [
    "i=0"
   ]
  },
  {
   "cell_type": "code",
   "execution_count": 21,
   "metadata": {},
   "outputs": [
    {
     "data": {
      "application/vnd.jupyter.widget-view+json": {
       "model_id": "d09240a5e21246f295e91c8b00008e0f",
       "version_major": 2,
       "version_minor": 0
      },
      "text/plain": [
       "VBox(children=(Figure(camera=PerspectiveCamera(fov=46.0, position=(0.0, 0.0, 2.0), quaternion=(0.0, 0.0, 0.0, …"
      ]
     },
     "metadata": {},
     "output_type": "display_data"
    }
   ],
   "source": [
    "i += 1\n",
    "record = eval_info[eval_info.name == eval_info.name[i]]\n",
    "\n",
    "first = record.first_point.values[0]\n",
    "n_val = record.n_points.values[0]\n",
    "\n",
    "frames = []\n",
    "for i in range(first, first+n_val):\n",
    "    arr = np.load(f\"/home/usuario/project_data/datasets/KITTITrackletsCars/pointcloud1/{str(i).zfill(8)}.npy\")\n",
    "    frames.append(arr)\n",
    "    \n",
    "fig = ipv.figure()\n",
    "for i in range(len(frames)):\n",
    "    frame = frames[i]\n",
    "    ipv.scatter(frame[:,0], frame[:,1], frame[:,2], size=1)\n",
    "ipv.show()"
   ]
  },
  {
   "cell_type": "code",
   "execution_count": null,
   "metadata": {},
   "outputs": [],
   "source": []
  }
 ],
 "metadata": {
  "kernelspec": {
   "display_name": "Python 3",
   "language": "python",
   "name": "python3"
  },
  "language_info": {
   "codemirror_mode": {
    "name": "ipython",
    "version": 3
   },
   "file_extension": ".py",
   "mimetype": "text/x-python",
   "name": "python",
   "nbconvert_exporter": "python",
   "pygments_lexer": "ipython3",
   "version": "3.7.6"
  }
 },
 "nbformat": 4,
 "nbformat_minor": 4
}
